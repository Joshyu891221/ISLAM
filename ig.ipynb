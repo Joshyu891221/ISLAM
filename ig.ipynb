{
 "cells": [
  {
   "cell_type": "code",
   "execution_count": 45,
   "metadata": {},
   "outputs": [],
   "source": [
    "from selenium import webdriver\n",
    "from selenium.webdriver.common.by import By\n",
    "from selenium.webdriver.support.ui import WebDriverWait, Select\n",
    "from selenium.webdriver.support import expected_conditions as EC\n",
    "from selenium.webdriver.chrome.service import Service\n",
    "from selenium.webdriver.common.keys import Keys\n",
    "from selenium.webdriver.common.action_chains import ActionChains\n",
    "from selenium.common.exceptions import *\n",
    "\n",
    "import multiprocessing as mp\n",
    "from selenium import webdriver\n",
    "import time\n"
   ]
  },
  {
   "cell_type": "code",
   "execution_count": 3,
   "metadata": {},
   "outputs": [],
   "source": [
    "# # def run_selenium_task(num):\n",
    "#     s = Service('/usr/local/bin/chromedriver')\n",
    "#     browser = webdriver.Chrome(service=s)\n",
    "#     browser.get('https://www.instagram.com/')\n",
    "#     account = WebDriverWait(browser, 600).until(EC.presence_of_element_located((By.XPATH, '//*[@id=\"loginForm\"]/div/div[1]/div/label/input')))#browser.find_element(By.XPATH, '//*[@id=\"loginForm\"]/div/div[1]/div/label/input')\n",
    "#     account.send_keys('9cjosh')\n",
    "#     password = WebDriverWait(browser, 600).until(EC.presence_of_element_located((By.XPATH, '//*[@id=\"loginForm\"]/div/div[2]/div/label/input')))#browser.find_element(By.XPATH, '//*[@id=\"loginForm\"]/div/div[2]/div/label/input')\n",
    "#     password.send_keys('5679897a')\n",
    "#     WebDriverWait(browser, 600).until(EC.presence_of_element_located((By.XPATH, '//*[@id=\"loginForm\"]/div/div[3]'))).click()\n",
    "#     browser.quit()\n",
    "#     print('This is Process: ', num)\n",
    "\n",
    "# if __name__=='__main__':\n",
    "#   # cpu_count = mp.cpu_count()\n",
    "#   # print(\"cpu_count: \", cpu_count)\n",
    "#   num_process = 20\n",
    "#   process_list = []\n",
    "#   for i in range(num_process):\n",
    "#     process_list.append(mp.Process(target = run_selenium_task, args = (i,)))\n",
    "#     process_list[i].start()\n",
    "\n",
    "#   for i in range(num_process):\n",
    "#     process_list[i].join()"
   ]
  },
  {
   "attachments": {},
   "cell_type": "markdown",
   "metadata": {},
   "source": [
    "# start browser and login"
   ]
  },
  {
   "cell_type": "code",
   "execution_count": 28,
   "metadata": {},
   "outputs": [],
   "source": [
    "def login(browser, account, password):\n",
    "    try:\n",
    "        account_xpath = '//*[@id=\"loginForm\"]/div/div[1]/div/label/input'\n",
    "        password_xpath = '//*[@id=\"loginForm\"]/div/div[2]/div/label/input'\n",
    "        button_xpath = '//*[@id=\"loginForm\"]/div/div[3]'\n",
    "\n",
    "\n",
    "        # input account and password\n",
    "        elem_account = WebDriverWait(browser, 600).until(EC.presence_of_element_located((By.XPATH, account_xpath)))\n",
    "        elem_account.send_keys(account)\n",
    "        elem_password = WebDriverWait(browser, 600).until(EC.presence_of_element_located((By.XPATH, password_xpath)))\n",
    "        elem_password.send_keys(password)\n",
    "\n",
    "        # click login button\n",
    "        elem_button = WebDriverWait(browser, 600).until(EC.presence_of_element_located((By.XPATH, button_xpath)))\n",
    "        elem_button.click()\n",
    "    except:\n",
    "        print('login failed')\n",
    "\n",
    "\n"
   ]
  },
  {
   "attachments": {},
   "cell_type": "markdown",
   "metadata": {},
   "source": [
    "# check alert"
   ]
  },
  {
   "cell_type": "code",
   "execution_count": 5,
   "metadata": {},
   "outputs": [],
   "source": [
    "def check_alert(browser):\n",
    "    try:\n",
    "        WebDriverWait(browser, 60).until(EC.presence_of_element_located((By.XPATH, '/html/body/div[2]/div/div/div[2]/div/div/div/div[1]/div[1]/div[2]/section/main/div/div/div/div/div'))).click()\n",
    "        WebDriverWait(browser, 60).until(EC.presence_of_element_located((By.XPATH, '/html/body/div[2]/div/div/div[3]/div/div/div[1]/div/div[2]/div/div/div/div/div[2]/div/div/div[3]/button[2]'))).click()\n",
    "    except:\n",
    "        pass"
   ]
  },
  {
   "cell_type": "markdown",
   "metadata": {},
   "source": []
  },
  {
   "attachments": {},
   "cell_type": "markdown",
   "metadata": {},
   "source": [
    "# check main page"
   ]
  },
  {
   "cell_type": "code",
   "execution_count": 6,
   "metadata": {},
   "outputs": [],
   "source": [
    "def check_main_page(browser):\n",
    "    verify_element_list = [\n",
    "        {'type':By.CSS_SELECTOR, 'value':'canvas[class=\"_aarh\"]'}, \n",
    "        {'type':By.CSS_SELECTOR, 'value': 'span[class=\"x1lliihq x1plvlek xryxfnj x1n2onr6 x193iq5w xeuugli x1fj9vlw x13faqbe x1vvkbs x1s928wv xhkezso x1gmr53x x1cpjm7i x1fgarty x1943h6x x1i0vuye x1fhwpqd x1s688f x173jzuc x1s3etm8 x676frb x10wh9bi x1wdrske x8viiok x18hxmgj\"]'}\n",
    "    ]\n",
    "    for i in range(len(verify_element_list)):\n",
    "        try:\n",
    "            browser.find_element(verify_element_list[i]['type'], verify_element_list[i]['value'])\n",
    "        except:\n",
    "            return False \n",
    "    return True"
   ]
  },
  {
   "attachments": {},
   "cell_type": "markdown",
   "metadata": {},
   "source": [
    "# check explore page"
   ]
  },
  {
   "cell_type": "code",
   "execution_count": 7,
   "metadata": {},
   "outputs": [],
   "source": [
    "def check_explore_page(browser):\n",
    "    verify_element_list = [\n",
    "        {'type':By.CSS_SELECTOR, 'value':'div[class=\"x9f619 xjbqb8w x1lliihq x168nmei x13lgxp2 x5pf9jr xo71vjh x1n2onr6 x1plvlek xryxfnj x1c4vz4f x2lah0s xdt5ytf xqjyukv x1qjc9v5 x1oa3qoh x1nhvcw1\"]'}, \n",
    "        {'type':By.CSS_SELECTOR, 'value': 'div[class=\"x9f619 xjbqb8w x1lliihq x168nmei x13lgxp2 x5pf9jr xo71vjh x1n2onr6 x1plvlek xryxfnj x1c4vz4f x2lah0s xdt5ytf xqjyukv x1qjc9v5 x1oa3qoh x1nhvcw1\"]'}\n",
    "    ]\n",
    "    for i in range(len(verify_element_list)):\n",
    "        try:\n",
    "            browser.find_element(verify_element_list[i]['type'], verify_element_list[i]['value'])\n",
    "        except:\n",
    "            return False \n",
    "    return True"
   ]
  },
  {
   "attachments": {},
   "cell_type": "markdown",
   "metadata": {},
   "source": [
    "# check reels page"
   ]
  },
  {
   "cell_type": "code",
   "execution_count": 8,
   "metadata": {},
   "outputs": [],
   "source": [
    "def check_reels_page(browser):\n",
    "    verify_element_list = [\n",
    "        {'type':By.CSS_SELECTOR, 'value':'div[class=\"x6s0dn4 x78zum5 xieb3on x1ypdohk xdt5ytf\"]'}, \n",
    "        {'type':By.CSS_SELECTOR, 'value': 'div[class=\"x1i10hfl x6umtig x1b1mbwd xaqea5y xav7gou x9f619 xe8uvvx xdj266r x11i5rnm xat24cr x1mh8g0r x16tdsg8 x1hl2dhg xggy1nq x1a2a7pz x6s0dn4 x78zum5 xjbqb8w x1ejq31n xd10rxx x1sy0etr x17r0tee x1ypdohk xl56j7k xexx8yu x4uap5 x18d9i69 xkhd6sd\"]'}\n",
    "    ]\n",
    "    for i in range(len(verify_element_list)):\n",
    "        try:\n",
    "            browser.find_element(verify_element_list[i]['type'], verify_element_list[i]['value'])\n",
    "        except:\n",
    "            return False \n",
    "    return True"
   ]
  },
  {
   "attachments": {},
   "cell_type": "markdown",
   "metadata": {},
   "source": [
    "# check chat box"
   ]
  },
  {
   "cell_type": "code",
   "execution_count": 9,
   "metadata": {},
   "outputs": [],
   "source": [
    "def check_chat_box(browser):\n",
    "    verify_element_list = [\n",
    "        {'type':By.CSS_SELECTOR, 'value':'button[class=\"_abl- _abm2\"]'}, \n",
    "        {'type':By.CSS_SELECTOR, 'value': 'div[class=\"x9f619 xjbqb8w x78zum5 x168nmei x13lgxp2 x5pf9jr xo71vjh x1y1aw1k x1sxyh0 xwib8y2 xurb0ha x1n2onr6 x1plvlek xryxfnj x1c4vz4f x2lah0s xdt5ytf xqjyukv x1qjc9v5 x1oa3qoh x1nhvcw1\"]'}\n",
    "    ]\n",
    "    for i in range(len(verify_element_list)):\n",
    "        try:\n",
    "            browser.find_element(verify_element_list[i]['type'], verify_element_list[i]['value'])\n",
    "        except:\n",
    "            return False \n",
    "    return True"
   ]
  },
  {
   "attachments": {},
   "cell_type": "markdown",
   "metadata": {},
   "source": [
    "# check post page"
   ]
  },
  {
   "cell_type": "code",
   "execution_count": 10,
   "metadata": {},
   "outputs": [],
   "source": [
    "def check_post_page(browser):\n",
    "    try:\n",
    "        browser.find_element(By.CSS_SELECTOR, \"div[class = '_ac7a']\")\n",
    "        return True\n",
    "    except:\n",
    "        return False    "
   ]
  },
  {
   "attachments": {},
   "cell_type": "markdown",
   "metadata": {},
   "source": [
    "# check profile"
   ]
  },
  {
   "cell_type": "code",
   "execution_count": 11,
   "metadata": {},
   "outputs": [],
   "source": [
    "def check_profile(browser):\n",
    "    verify_element_list = [\n",
    "        {'type':By.CSS_SELECTOR, 'value':'a[class=\"x1i10hfl xjqpnuy xa49m3k xqeqjp1 x2hbi6w x972fbf xcfux6l x1qhh985 xm0m39n xdl72j9 x2lah0s xe8uvvx xdj266r x11i5rnm xat24cr x1mh8g0r x2lwn1j xeuugli xexx8yu x18d9i69 x1hl2dhg xggy1nq x1ja2u2z x1t137rt x1q0g3np x1lku1pv x1a2a7pz x6s0dn4 xjyslct x1lq5wgf xgqcy7u x30kzoy x9jhf4c x1ejq31n xd10rxx x1sy0etr x17r0tee x9f619 x1ypdohk x78zum5 x1i0vuye xwhw2v2 x10w6t97 xl56j7k x17ydfre x1f6kntn x1swvt13 x1pi30zi x2b8uid xlyipyv x87ps6o x14atkfc x1n2onr6 x1d5wrs8 x1gjpkn9 x175jnsf xsz8vos x17a9jwe\"]'}, \n",
    "        {'type':By.CSS_SELECTOR, 'value': 'button[class=\"_abl-\"]'}\n",
    "        ]\n",
    "    for i in range(len(verify_element_list)):\n",
    "        try:\n",
    "            browser.find_element(verify_element_list[i]['type'], verify_element_list[i]['value'])\n",
    "        except :\n",
    "            return False\n",
    "    return True\n",
    "       "
   ]
  },
  {
   "attachments": {},
   "cell_type": "markdown",
   "metadata": {},
   "source": [
    "# close post page"
   ]
  },
  {
   "cell_type": "code",
   "execution_count": 12,
   "metadata": {},
   "outputs": [],
   "source": [
    "def close_post_page(browser):\n",
    "    browser.find_element(By.CSS_SELECTOR, 'svg[aria-label=\"關閉\"]').click()"
   ]
  },
  {
   "attachments": {},
   "cell_type": "markdown",
   "metadata": {},
   "source": [
    "# go to main"
   ]
  },
  {
   "cell_type": "code",
   "execution_count": 13,
   "metadata": {},
   "outputs": [],
   "source": [
    "def go_to_main(browser):\n",
    "    while not check_main_page(browser):\n",
    "        try:\n",
    "            browser.find_element(By.CSS_SELECTOR, 'div[class=\"x9f619 xjbqb8w x78zum5 x168nmei x13lgxp2 x5pf9jr xo71vjh x1n2onr6 x1plvlek xryxfnj x1c4vz4f x2lah0s xdt5ytf xqjyukv x1qjc9v5 x1oa3qoh x1nhvcw1\"]').click()\n",
    "            break\n",
    "        except:\n",
    "            if check_post_page(browser):\n",
    "                close_post_page(browser)\n",
    "    try:\n",
    "        close_post_page(browser)\n",
    "    except:\n",
    "        pass    \n",
    "    time.sleep(2)\n",
    "    print('go to main finish')"
   ]
  },
  {
   "attachments": {},
   "cell_type": "markdown",
   "metadata": {},
   "source": [
    "# go to explore"
   ]
  },
  {
   "cell_type": "code",
   "execution_count": 14,
   "metadata": {},
   "outputs": [],
   "source": [
    "def go_to_explore(browser):\n",
    "    while not check_explore_page(browser):\n",
    "        try:\n",
    "            browser.find_elements(By.CSS_SELECTOR, 'a[class=\"x1i10hfl xjbqb8w x6umtig x1b1mbwd xaqea5y xav7gou x9f619 x1ypdohk xt0psk2 xe8uvvx xdj266r x11i5rnm xat24cr x1mh8g0r xexx8yu x4uap5 x18d9i69 xkhd6sd x16tdsg8 x1hl2dhg xggy1nq x1a2a7pz _a6hd\"]')[3].click()\n",
    "        except:\n",
    "            if check_post_page(browser):\n",
    "                close_post_page(browser)\n",
    "    try:\n",
    "        close_post_page(browser)\n",
    "    except:\n",
    "        pass    \n",
    "    time.sleep(2)\n",
    "    print('go to explore finish')"
   ]
  },
  {
   "attachments": {},
   "cell_type": "markdown",
   "metadata": {},
   "source": [
    "# go to reel"
   ]
  },
  {
   "cell_type": "code",
   "execution_count": 15,
   "metadata": {},
   "outputs": [],
   "source": [
    "def go_to_reel(browser):\n",
    "    while not check_reels_page(browser):\n",
    "        try:\n",
    "            browser.find_elements(By.CSS_SELECTOR, 'a[class=\"x1i10hfl xjbqb8w x6umtig x1b1mbwd xaqea5y xav7gou x9f619 x1ypdohk xt0psk2 xe8uvvx xdj266r x11i5rnm xat24cr x1mh8g0r xexx8yu x4uap5 x18d9i69 xkhd6sd x16tdsg8 x1hl2dhg xggy1nq x1a2a7pz _a6hd\"]')[4].click()\n",
    "        except:\n",
    "            if check_post_page(browser):\n",
    "                close_post_page(browser)\n",
    "    try:\n",
    "        close_post_page(browser)    \n",
    "    except:\n",
    "        pass    \n",
    "    time.sleep(2)\n",
    "    print('go to reel finish')"
   ]
  },
  {
   "attachments": {},
   "cell_type": "markdown",
   "metadata": {},
   "source": [
    "# go to chat box"
   ]
  },
  {
   "cell_type": "code",
   "execution_count": 16,
   "metadata": {},
   "outputs": [],
   "source": [
    "def go_to_chatbox(browser):\n",
    "    while not check_chat_box(browser):\n",
    "        try:\n",
    "            browser.find_elements(By.CSS_SELECTOR, 'a[class=\"x1i10hfl xjbqb8w x6umtig x1b1mbwd xaqea5y xav7gou x9f619 x1ypdohk xt0psk2 xe8uvvx xdj266r x11i5rnm xat24cr x1mh8g0r xexx8yu x4uap5 x18d9i69 xkhd6sd x16tdsg8 x1hl2dhg xggy1nq x1a2a7pz _a6hd\"]')[5].click()\n",
    "        except:\n",
    "            if check_post_page(browser):\n",
    "                close_post_page(browser)\n",
    "    try:\n",
    "        close_post_page(browser)    \n",
    "    except:\n",
    "        pass    \n",
    "    time.sleep(2)\n",
    "    print('go to chatbox finish')"
   ]
  },
  {
   "attachments": {},
   "cell_type": "markdown",
   "metadata": {},
   "source": [
    "# go to profile"
   ]
  },
  {
   "cell_type": "code",
   "execution_count": 17,
   "metadata": {},
   "outputs": [],
   "source": [
    "\n",
    "# profilePageIdentifier(browser)\n",
    "def go_to_profile(browser):\n",
    "    while not check_profile(browser):\n",
    "        try:\n",
    "            browser.find_element(By.CSS_SELECTOR, 'span[class=\"xnz67gz x14yjl9h xudhj91 x18nykt9 xww2gxu x9f619 x1lliihq x2lah0s x6ikm8r x10wlt62 x1n2onr6 x1ykvv32 xougopr x159fomc xnp5s1o x194ut8o x1vzenxt xd7ygy7 xt298gk x1xrz1ek x1s928wv x162n7g1 x2q1x1w x1j6awrg x1n449xj x1m1drc7\"]').click()\n",
    "            break\n",
    "        except:\n",
    "            if check_post_page(browser):\n",
    "                close_post_page(browser)\n",
    "    try:\n",
    "        close_post_page(browser)\n",
    "    except:\n",
    "        pass    \n",
    "    time.sleep(2)\n",
    "    if check_profile(browser):\n",
    "         print('finish')"
   ]
  },
  {
   "attachments": {},
   "cell_type": "markdown",
   "metadata": {},
   "source": [
    "# click followers or following"
   ]
  },
  {
   "cell_type": "code",
   "execution_count": 18,
   "metadata": {},
   "outputs": [],
   "source": [
    "def click_followers(driver):\n",
    "    try:\n",
    "        followers_button = driver.find_element(By.CSS_SELECTOR, \"a[class='x1i10hfl xjbqb8w x6umtig x1b1mbwd xaqea5y xav7gou x9f619 x1ypdohk xt0psk2 xe8uvvx xdj266r x11i5rnm xat24cr x1mh8g0r xexx8yu x4uap5 x18d9i69 xkhd6sd x16tdsg8 x1hl2dhg xggy1nq x1a2a7pz _alvs _a6hd']\")\n",
    "        followers_button.click()\n",
    "        print('Followers clicked')\n",
    "    except:\n",
    "        print('Followers not found')\n",
    "\n",
    "def click_followings(driver):\n",
    "    try:\n",
    "        followers_button = driver.find_element(By.CSS_SELECTOR, \"a[class='x1i10hfl xjbqb8w x6umtig x1b1mbwd xaqea5y xav7gou x9f619 x1ypdohk xt0psk2 xe8uvvx xdj266r x11i5rnm xat24cr x1mh8g0r xexx8yu x4uap5 x18d9i69 xkhd6sd x16tdsg8 x1hl2dhg xggy1nq x1a2a7pz _alvs _a6hd']\")\n",
    "        followers_button.click()\n",
    "        print('Followings clicked')\n",
    "    except:\n",
    "        print('Followings not found')"
   ]
  },
  {
   "attachments": {},
   "cell_type": "markdown",
   "metadata": {},
   "source": [
    "# scroll down followers or following"
   ]
  },
  {
   "cell_type": "code",
   "execution_count": 220,
   "metadata": {},
   "outputs": [],
   "source": [
    "def scroll_down_followers_or_followings(browser):\n",
    "    likes_accounts = []\n",
    "    try:\n",
    "        repeat = 0\n",
    "        while True:\n",
    "            accounts = browser.find_elements(By.CSS_SELECTOR, \"div[class='x9f619 xjbqb8w x78zum5 x168nmei x13lgxp2 x5pf9jr xo71vjh x1pi30zi x1swvt13 xwib8y2 x1y1aw1k x1uhb9sk x1plvlek xryxfnj x1c4vz4f x2lah0s xdt5ytf xqjyukv x1qjc9v5 x1oa3qoh x1nhvcw1']\")\n",
    "            for account in accounts:\n",
    "                source_text = account.text\n",
    "                follower_account = source_text.split('\\n')[0]\n",
    "                if follower_account not in likes_accounts:\n",
    "                    likes_accounts.append(follower_account)\n",
    "            click_to_scroll = browser.find_elements(By.CSS_SELECTOR, \"div[class='x9f619 xjbqb8w x78zum5 x168nmei x13lgxp2 x5pf9jr xo71vjh x1pi30zi x1swvt13 xwib8y2 x1y1aw1k x1uhb9sk x1plvlek xryxfnj x1c4vz4f x2lah0s xdt5ytf xqjyukv x1qjc9v5 x1oa3qoh x1nhvcw1']\")[-3]\n",
    "            try:\n",
    "                click_to_scroll.click()\n",
    "            except ElementClickInterceptedException:\n",
    "                pass\n",
    "            time.sleep(0.5)\n",
    "            ActionChains(browser).send_keys(Keys.PAGE_DOWN).perform()\n",
    "            time.sleep(0.5)\n",
    "            \n",
    "            new_click_to_scroll = browser.find_elements(By.CSS_SELECTOR, \"div[class='x9f619 xjbqb8w x78zum5 x168nmei x13lgxp2 x5pf9jr xo71vjh x1pi30zi x1swvt13 xwib8y2 x1y1aw1k x1uhb9sk x1plvlek xryxfnj x1c4vz4f x2lah0s xdt5ytf xqjyukv x1qjc9v5 x1oa3qoh x1nhvcw1']\")[-1]\n",
    "            if new_click_to_scroll == click_to_scroll:\n",
    "                repeat += 1\n",
    "                if repeat == 2:\n",
    "                    break\n",
    "    except:\n",
    "        print('Scroll down failed')\n",
    "    return likes_accounts"
   ]
  },
  {
   "cell_type": "code",
   "execution_count": 244,
   "metadata": {},
   "outputs": [],
   "source": [
    "repeat = 0\n",
    "likes_accounts = []\n",
    "while True:\n",
    "    accounts = browser.find_elements(By.CSS_SELECTOR, \"div[class='x9f619 xjbqb8w x78zum5 x168nmei x13lgxp2 x5pf9jr xo71vjh x1pi30zi x1swvt13 xwib8y2 x1y1aw1k x1uhb9sk x1plvlek xryxfnj x1c4vz4f x2lah0s xdt5ytf xqjyukv x1qjc9v5 x1oa3qoh x1nhvcw1']\")\n",
    "    for account in accounts:\n",
    "        source_text = account.text\n",
    "        follower_account = source_text.split('\\n')[0]\n",
    "        if follower_account not in likes_accounts:\n",
    "            likes_accounts.append(follower_account)\n",
    "    click_to_scroll = browser.find_elements(By.CSS_SELECTOR, \"div[class='x9f619 xjbqb8w x78zum5 x168nmei x13lgxp2 x5pf9jr xo71vjh x1pi30zi x1swvt13 xwib8y2 x1y1aw1k x1uhb9sk x1plvlek xryxfnj x1c4vz4f x2lah0s xdt5ytf xqjyukv x1qjc9v5 x1oa3qoh x1nhvcw1']\")[-3]\n",
    "    try:\n",
    "        click_to_scroll.click()\n",
    "    except ElementClickInterceptedException:\n",
    "        pass\n",
    "    time.sleep(0.5)\n",
    "    ActionChains(browser).send_keys(Keys.PAGE_DOWN).perform()\n",
    "    time.sleep(0.5)\n",
    "    new_click_to_scroll = browser.find_elements(By.CSS_SELECTOR, \"div[class='x9f619 xjbqb8w x78zum5 x168nmei x13lgxp2 x5pf9jr xo71vjh x1pi30zi x1swvt13 xwib8y2 x1y1aw1k x1uhb9sk x1plvlek xryxfnj x1c4vz4f x2lah0s xdt5ytf xqjyukv x1qjc9v5 x1oa3qoh x1nhvcw1']\")[-3]\n",
    "    if new_click_to_scroll == click_to_scroll:\n",
    "        repeat += 1\n",
    "        if repeat == 2:\n",
    "            break\n",
    "        "
   ]
  },
  {
   "cell_type": "code",
   "execution_count": 245,
   "metadata": {},
   "outputs": [
    {
     "name": "stdout",
     "output_type": "stream",
     "text": [
      "36\n"
     ]
    }
   ],
   "source": [
    "print(len(likes_accounts))"
   ]
  },
  {
   "attachments": {},
   "cell_type": "markdown",
   "metadata": {},
   "source": [
    "# is there a next post"
   ]
  },
  {
   "cell_type": "code",
   "execution_count": 21,
   "metadata": {},
   "outputs": [],
   "source": [
    "def next_post(browser):\n",
    "    try:\n",
    "        browser.find_element(By.CSS_SELECTOR, 'svg[aria-label=\"下一步\"]').click()\n",
    "    except NoSuchElementException:\n",
    "        print('No other post')"
   ]
  },
  {
   "attachments": {},
   "cell_type": "markdown",
   "metadata": {},
   "source": [
    "# find likes and comments"
   ]
  },
  {
   "cell_type": "code",
   "execution_count": 22,
   "metadata": {},
   "outputs": [],
   "source": [
    "def find_likes(browser):\n",
    "    accounts = browser.find_elements(By.CSS_SELECTOR, \"div[class='x9f619 xjbqb8w x78zum5 x168nmei x13lgxp2 x5pf9jr xo71vjh x1pi30zi x1swvt13 xwib8y2 x1y1aw1k x1uhb9sk x1plvlek xryxfnj x1c4vz4f x2lah0s xdt5ytf xqjyukv x1qjc9v5 x1oa3qoh x1nhvcw1']\")\n",
    "    likes_accounts = []\n",
    "    for account in accounts:\n",
    "        source_text = account.text\n",
    "        follower_account = source_text.split('\\n')[0]\n",
    "        likes_accounts.append(follower_account)\n",
    "    return likes_accounts\n"
   ]
  },
  {
   "attachments": {},
   "cell_type": "markdown",
   "metadata": {},
   "source": [
    "# leave follower/followings bars"
   ]
  },
  {
   "cell_type": "code",
   "execution_count": 23,
   "metadata": {},
   "outputs": [],
   "source": [
    "def press_esc(driver):\n",
    "    try:\n",
    "        ActionChains(driver).send_keys(Keys.ESCAPE).perform()\n",
    "    except:\n",
    "        print('Press ESC failed')"
   ]
  },
  {
   "attachments": {},
   "cell_type": "markdown",
   "metadata": {},
   "source": [
    "# parse likes"
   ]
  },
  {
   "cell_type": "code",
   "execution_count": 228,
   "metadata": {},
   "outputs": [
    {
     "name": "stdout",
     "output_type": "stream",
     "text": [
      "no one like this page\n",
      "post 2\n",
      "40\n",
      "post 3\n",
      "39\n",
      "post 4\n",
      "43\n",
      "post 5\n",
      "34\n",
      "post 6\n",
      "17\n",
      "post 7\n",
      "26\n",
      "post 8\n",
      "Scroll down failed\n",
      "25\n",
      "No other post\n",
      "no one like this page\n",
      "No other post\n",
      "no one like this page\n",
      "No other post\n",
      "no one like this page\n",
      "No other post\n",
      "no one like this page\n",
      "No other post\n"
     ]
    },
    {
     "ename": "NoSuchElementException",
     "evalue": "Message: no such element: Unable to locate element: {\"method\":\"css selector\",\"selector\":\"svg[aria-label=\"關閉\"]\"}\n  (Session info: chrome=112.0.5615.49)\nStacktrace:\n0   chromedriver                        0x0000000104a15670 chromedriver + 4298352\n1   chromedriver                        0x0000000104a0dbbc chromedriver + 4266940\n2   chromedriver                        0x0000000104640758 chromedriver + 280408\n3   chromedriver                        0x000000010467bb38 chromedriver + 523064\n4   chromedriver                        0x00000001046b4080 chromedriver + 753792\n5   chromedriver                        0x000000010466e2d0 chromedriver + 467664\n6   chromedriver                        0x000000010466f354 chromedriver + 471892\n7   chromedriver                        0x00000001049d56c4 chromedriver + 4036292\n8   chromedriver                        0x00000001049d9c64 chromedriver + 4054116\n9   chromedriver                        0x00000001049e02d8 chromedriver + 4080344\n10  chromedriver                        0x00000001049da970 chromedriver + 4057456\n11  chromedriver                        0x00000001049b18dc chromedriver + 3889372\n12  chromedriver                        0x00000001049f925c chromedriver + 4182620\n13  chromedriver                        0x00000001049f93b4 chromedriver + 4182964\n14  chromedriver                        0x0000000104a080f4 chromedriver + 4243700\n15  libsystem_pthread.dylib             0x000000018cd2426c _pthread_start + 148\n16  libsystem_pthread.dylib             0x000000018cd1f08c thread_start + 8\n",
     "output_type": "error",
     "traceback": [
      "\u001b[0;31m---------------------------------------------------------------------------\u001b[0m",
      "\u001b[0;31mNoSuchElementException\u001b[0m                    Traceback (most recent call last)",
      "\u001b[0;32m/var/folders/01/3trq1rg12sq40chws8lhwpdh0000gp/T/ipykernel_57002/2703942420.py\u001b[0m in \u001b[0;36m<module>\u001b[0;34m\u001b[0m\n\u001b[0;32m----> 1\u001b[0;31m \u001b[0mparse_likes\u001b[0m\u001b[0;34m(\u001b[0m\u001b[0mbrowser\u001b[0m\u001b[0;34m)\u001b[0m\u001b[0;34m\u001b[0m\u001b[0;34m\u001b[0m\u001b[0m\n\u001b[0m",
      "\u001b[0;32m/var/folders/01/3trq1rg12sq40chws8lhwpdh0000gp/T/ipykernel_57002/2162466491.py\u001b[0m in \u001b[0;36mparse_likes\u001b[0;34m(browser)\u001b[0m\n\u001b[1;32m     25\u001b[0m             \u001b[0;32mpass\u001b[0m\u001b[0;34m\u001b[0m\u001b[0;34m\u001b[0m\u001b[0m\n\u001b[1;32m     26\u001b[0m         \u001b[0mtime\u001b[0m\u001b[0;34m.\u001b[0m\u001b[0msleep\u001b[0m\u001b[0;34m(\u001b[0m\u001b[0;36m1\u001b[0m\u001b[0;34m)\u001b[0m\u001b[0;34m\u001b[0m\u001b[0;34m\u001b[0m\u001b[0m\n\u001b[0;32m---> 27\u001b[0;31m     \u001b[0mbrowser\u001b[0m\u001b[0;34m.\u001b[0m\u001b[0mfind_element\u001b[0m\u001b[0;34m(\u001b[0m\u001b[0mBy\u001b[0m\u001b[0;34m.\u001b[0m\u001b[0mCSS_SELECTOR\u001b[0m\u001b[0;34m,\u001b[0m \u001b[0;34m'svg[aria-label=\"關閉\"]'\u001b[0m\u001b[0;34m)\u001b[0m\u001b[0;34m.\u001b[0m\u001b[0mclick\u001b[0m\u001b[0;34m(\u001b[0m\u001b[0;34m)\u001b[0m\u001b[0;34m\u001b[0m\u001b[0;34m\u001b[0m\u001b[0m\n\u001b[0m\u001b[1;32m     28\u001b[0m \u001b[0;34m\u001b[0m\u001b[0m\n",
      "\u001b[0;32m~/influx/PyEnv/Python3.7_Scraper/lib/python3.7/site-packages/selenium/webdriver/remote/webdriver.py\u001b[0m in \u001b[0;36mfind_element\u001b[0;34m(self, by, value)\u001b[0m\n\u001b[1;32m   1244\u001b[0m         return self.execute(Command.FIND_ELEMENT, {\n\u001b[1;32m   1245\u001b[0m             \u001b[0;34m'using'\u001b[0m\u001b[0;34m:\u001b[0m \u001b[0mby\u001b[0m\u001b[0;34m,\u001b[0m\u001b[0;34m\u001b[0m\u001b[0;34m\u001b[0m\u001b[0m\n\u001b[0;32m-> 1246\u001b[0;31m             'value': value})['value']\n\u001b[0m\u001b[1;32m   1247\u001b[0m \u001b[0;34m\u001b[0m\u001b[0m\n\u001b[1;32m   1248\u001b[0m     \u001b[0;32mdef\u001b[0m \u001b[0mfind_elements\u001b[0m\u001b[0;34m(\u001b[0m\u001b[0mself\u001b[0m\u001b[0;34m,\u001b[0m \u001b[0mby\u001b[0m\u001b[0;34m=\u001b[0m\u001b[0mBy\u001b[0m\u001b[0;34m.\u001b[0m\u001b[0mID\u001b[0m\u001b[0;34m,\u001b[0m \u001b[0mvalue\u001b[0m\u001b[0;34m=\u001b[0m\u001b[0;32mNone\u001b[0m\u001b[0;34m)\u001b[0m \u001b[0;34m->\u001b[0m \u001b[0mList\u001b[0m\u001b[0;34m[\u001b[0m\u001b[0mWebElement\u001b[0m\u001b[0;34m]\u001b[0m\u001b[0;34m:\u001b[0m\u001b[0;34m\u001b[0m\u001b[0;34m\u001b[0m\u001b[0m\n",
      "\u001b[0;32m~/influx/PyEnv/Python3.7_Scraper/lib/python3.7/site-packages/selenium/webdriver/remote/webdriver.py\u001b[0m in \u001b[0;36mexecute\u001b[0;34m(self, driver_command, params)\u001b[0m\n\u001b[1;32m    422\u001b[0m         \u001b[0mresponse\u001b[0m \u001b[0;34m=\u001b[0m \u001b[0mself\u001b[0m\u001b[0;34m.\u001b[0m\u001b[0mcommand_executor\u001b[0m\u001b[0;34m.\u001b[0m\u001b[0mexecute\u001b[0m\u001b[0;34m(\u001b[0m\u001b[0mdriver_command\u001b[0m\u001b[0;34m,\u001b[0m \u001b[0mparams\u001b[0m\u001b[0;34m)\u001b[0m\u001b[0;34m\u001b[0m\u001b[0;34m\u001b[0m\u001b[0m\n\u001b[1;32m    423\u001b[0m         \u001b[0;32mif\u001b[0m \u001b[0mresponse\u001b[0m\u001b[0;34m:\u001b[0m\u001b[0;34m\u001b[0m\u001b[0;34m\u001b[0m\u001b[0m\n\u001b[0;32m--> 424\u001b[0;31m             \u001b[0mself\u001b[0m\u001b[0;34m.\u001b[0m\u001b[0merror_handler\u001b[0m\u001b[0;34m.\u001b[0m\u001b[0mcheck_response\u001b[0m\u001b[0;34m(\u001b[0m\u001b[0mresponse\u001b[0m\u001b[0;34m)\u001b[0m\u001b[0;34m\u001b[0m\u001b[0;34m\u001b[0m\u001b[0m\n\u001b[0m\u001b[1;32m    425\u001b[0m             response['value'] = self._unwrap_value(\n\u001b[1;32m    426\u001b[0m                 response.get('value', None))\n",
      "\u001b[0;32m~/influx/PyEnv/Python3.7_Scraper/lib/python3.7/site-packages/selenium/webdriver/remote/errorhandler.py\u001b[0m in \u001b[0;36mcheck_response\u001b[0;34m(self, response)\u001b[0m\n\u001b[1;32m    245\u001b[0m                 \u001b[0malert_text\u001b[0m \u001b[0;34m=\u001b[0m \u001b[0mvalue\u001b[0m\u001b[0;34m[\u001b[0m\u001b[0;34m'alert'\u001b[0m\u001b[0;34m]\u001b[0m\u001b[0;34m.\u001b[0m\u001b[0mget\u001b[0m\u001b[0;34m(\u001b[0m\u001b[0;34m'text'\u001b[0m\u001b[0;34m)\u001b[0m\u001b[0;34m\u001b[0m\u001b[0;34m\u001b[0m\u001b[0m\n\u001b[1;32m    246\u001b[0m             \u001b[0;32mraise\u001b[0m \u001b[0mexception_class\u001b[0m\u001b[0;34m(\u001b[0m\u001b[0mmessage\u001b[0m\u001b[0;34m,\u001b[0m \u001b[0mscreen\u001b[0m\u001b[0;34m,\u001b[0m \u001b[0mstacktrace\u001b[0m\u001b[0;34m,\u001b[0m \u001b[0malert_text\u001b[0m\u001b[0;34m)\u001b[0m  \u001b[0;31m# type: ignore[call-arg]  # mypy is not smart enough here\u001b[0m\u001b[0;34m\u001b[0m\u001b[0;34m\u001b[0m\u001b[0m\n\u001b[0;32m--> 247\u001b[0;31m         \u001b[0;32mraise\u001b[0m \u001b[0mexception_class\u001b[0m\u001b[0;34m(\u001b[0m\u001b[0mmessage\u001b[0m\u001b[0;34m,\u001b[0m \u001b[0mscreen\u001b[0m\u001b[0;34m,\u001b[0m \u001b[0mstacktrace\u001b[0m\u001b[0;34m)\u001b[0m\u001b[0;34m\u001b[0m\u001b[0;34m\u001b[0m\u001b[0m\n\u001b[0m\u001b[1;32m    248\u001b[0m \u001b[0;34m\u001b[0m\u001b[0m\n\u001b[1;32m    249\u001b[0m     \u001b[0;32mdef\u001b[0m \u001b[0m_value_or_default\u001b[0m\u001b[0;34m(\u001b[0m\u001b[0mself\u001b[0m\u001b[0;34m,\u001b[0m \u001b[0mobj\u001b[0m\u001b[0;34m:\u001b[0m \u001b[0mMapping\u001b[0m\u001b[0;34m[\u001b[0m\u001b[0m_KT\u001b[0m\u001b[0;34m,\u001b[0m \u001b[0m_VT\u001b[0m\u001b[0;34m]\u001b[0m\u001b[0;34m,\u001b[0m \u001b[0mkey\u001b[0m\u001b[0;34m:\u001b[0m \u001b[0m_KT\u001b[0m\u001b[0;34m,\u001b[0m \u001b[0mdefault\u001b[0m\u001b[0;34m:\u001b[0m \u001b[0m_VT\u001b[0m\u001b[0;34m)\u001b[0m \u001b[0;34m->\u001b[0m \u001b[0m_VT\u001b[0m\u001b[0;34m:\u001b[0m\u001b[0;34m\u001b[0m\u001b[0;34m\u001b[0m\u001b[0m\n",
      "\u001b[0;31mNoSuchElementException\u001b[0m: Message: no such element: Unable to locate element: {\"method\":\"css selector\",\"selector\":\"svg[aria-label=\"關閉\"]\"}\n  (Session info: chrome=112.0.5615.49)\nStacktrace:\n0   chromedriver                        0x0000000104a15670 chromedriver + 4298352\n1   chromedriver                        0x0000000104a0dbbc chromedriver + 4266940\n2   chromedriver                        0x0000000104640758 chromedriver + 280408\n3   chromedriver                        0x000000010467bb38 chromedriver + 523064\n4   chromedriver                        0x00000001046b4080 chromedriver + 753792\n5   chromedriver                        0x000000010466e2d0 chromedriver + 467664\n6   chromedriver                        0x000000010466f354 chromedriver + 471892\n7   chromedriver                        0x00000001049d56c4 chromedriver + 4036292\n8   chromedriver                        0x00000001049d9c64 chromedriver + 4054116\n9   chromedriver                        0x00000001049e02d8 chromedriver + 4080344\n10  chromedriver                        0x00000001049da970 chromedriver + 4057456\n11  chromedriver                        0x00000001049b18dc chromedriver + 3889372\n12  chromedriver                        0x00000001049f925c chromedriver + 4182620\n13  chromedriver                        0x00000001049f93b4 chromedriver + 4182964\n14  chromedriver                        0x0000000104a080f4 chromedriver + 4243700\n15  libsystem_pthread.dylib             0x000000018cd2426c _pthread_start + 148\n16  libsystem_pthread.dylib             0x000000018cd1f08c thread_start + 8\n"
     ]
    }
   ],
   "source": [
    "parse_likes(browser)"
   ]
  },
  {
   "cell_type": "code",
   "execution_count": 221,
   "metadata": {},
   "outputs": [],
   "source": [
    "def parse_likes(browser):\n",
    "    # total post number\n",
    "    post_num = int(browser.find_element(By.CSS_SELECTOR, 'span[class=\"_ac2a\"]').text)\n",
    "\n",
    "    # click first post\n",
    "    browser.find_element(By.CSS_SELECTOR, 'div[class=\"_aabd _aa8k  _al3l\"]').click()\n",
    "\n",
    "    for i in range(post_num):\n",
    "        try:\n",
    "            # click likes\n",
    "            browser.find_element(By.CSS_SELECTOR, 'span[class=\"x193iq5w xeuugli x1fj9vlw x13faqbe x1vvkbs xt0psk2 x1i0vuye xvs91rp x1s688f x5n08af x10wh9bi x1wdrske x8viiok x18hxmgj\"]').click()\n",
    "            print('post {}'.format(i+1))\n",
    "            time.sleep(2)\n",
    "            like_account = scroll_down_followers_or_followings(browser)\n",
    "            print(len(like_account))\n",
    "            time.sleep(0.5)\n",
    "            press_esc(browser)\n",
    "        except NoSuchElementException:\n",
    "            print('no one like this page')\n",
    "        except TimeoutException:\n",
    "            print('no one like this page')\n",
    "        try:\n",
    "            next_post(browser)\n",
    "        except:\n",
    "            pass\n",
    "        time.sleep(1)\n",
    "    browser.find_element(By.CSS_SELECTOR, 'svg[aria-label=\"關閉\"]').click()\n",
    "    "
   ]
  },
  {
   "cell_type": "code",
   "execution_count": 103,
   "metadata": {},
   "outputs": [],
   "source": [
    "post_num = int(browser.find_element(By.CSS_SELECTOR, 'span[class=\"_ac2a\"]').text)\n",
    "post_num\n",
    "browser.find_element(By.CSS_SELECTOR, 'div[class=\"_aabd _aa8k  _al3l\"]').click()\n"
   ]
  },
  {
   "cell_type": "code",
   "execution_count": 113,
   "metadata": {},
   "outputs": [],
   "source": [
    "browser.find_element(By.CSS_SELECTOR, 'span[class=\"x193iq5w xeuugli x1fj9vlw x13faqbe x1vvkbs xt0psk2 x1i0vuye xvs91rp x1s688f x5n08af x10wh9bi x1wdrske x8viiok x18hxmgj\"]').click()\n"
   ]
  },
  {
   "cell_type": "code",
   "execution_count": 104,
   "metadata": {},
   "outputs": [],
   "source": [
    "next_post(browser)"
   ]
  },
  {
   "cell_type": "code",
   "execution_count": 202,
   "metadata": {},
   "outputs": [],
   "source": [
    "options = webdriver.ChromeOptions()\n",
    "browser = webdriver.Chrome(service = Service('/usr/local/bin/chromedriver'), options = options)\n",
    "login_url = 'https://www.instagram.com/'\n",
    "browser.get(login_url)\n"
   ]
  },
  {
   "cell_type": "code",
   "execution_count": 203,
   "metadata": {},
   "outputs": [],
   "source": [
    "login(browser, 'nccu_babasketball', 'babasketball123')\n",
    "# login(browser, '7shinmon_benimaru', '5679897a')\n",
    "\n",
    "\n",
    "check_alert(browser)\n",
    "time.sleep(1)\n",
    "go_to_profile(browser)\n",
    "time.sleep(1)\n",
    "# click_followers(browser)\n",
    "time.sleep(1)\n"
   ]
  },
  {
   "cell_type": "code",
   "execution_count": null,
   "metadata": {},
   "outputs": [],
   "source": []
  }
 ],
 "metadata": {
  "kernelspec": {
   "display_name": "Python3.7_Scraper",
   "language": "python",
   "name": "python3"
  },
  "language_info": {
   "codemirror_mode": {
    "name": "ipython",
    "version": 3
   },
   "file_extension": ".py",
   "mimetype": "text/x-python",
   "name": "python",
   "nbconvert_exporter": "python",
   "pygments_lexer": "ipython3",
   "version": "3.7.16"
  },
  "orig_nbformat": 4,
  "vscode": {
   "interpreter": {
    "hash": "8b1bf02a49849b10ce35850e8399b368663ced8805b348f35860ffbc38aa5173"
   }
  }
 },
 "nbformat": 4,
 "nbformat_minor": 2
}
