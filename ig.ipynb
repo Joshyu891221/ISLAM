{
 "cells": [
  {
   "cell_type": "code",
   "execution_count": 1,
   "metadata": {},
   "outputs": [],
   "source": [
    "from selenium import webdriver\n",
    "from selenium.webdriver.common.by import By\n",
    "from selenium.webdriver.support.ui import WebDriverWait, Select\n",
    "from selenium.webdriver.support import expected_conditions as EC\n",
    "from selenium.webdriver.chrome.service import Service\n",
    "from selenium.webdriver.common.keys import Keys\n",
    "import multiprocessing as mp\n",
    "from selenium import webdriver\n",
    "import time\n"
   ]
  },
  {
   "cell_type": "code",
   "execution_count": null,
   "metadata": {},
   "outputs": [],
   "source": [
    "def run_selenium_task(num):\n",
    "    s = Service('/usr/local/bin/chromedriver')\n",
    "    browser = webdriver.Chrome(service=s)\n",
    "    browser.get('https://www.instagram.com/')\n",
    "    account = WebDriverWait(browser, 600).until(EC.presence_of_element_located((By.XPATH, '//*[@id=\"loginForm\"]/div/div[1]/div/label/input')))#browser.find_element(By.XPATH, '//*[@id=\"loginForm\"]/div/div[1]/div/label/input')\n",
    "    account.send_keys('9cjosh')\n",
    "    password = WebDriverWait(browser, 600).until(EC.presence_of_element_located((By.XPATH, '//*[@id=\"loginForm\"]/div/div[2]/div/label/input')))#browser.find_element(By.XPATH, '//*[@id=\"loginForm\"]/div/div[2]/div/label/input')\n",
    "    password.send_keys('5679897a')\n",
    "    WebDriverWait(browser, 600).until(EC.presence_of_element_located((By.XPATH, '//*[@id=\"loginForm\"]/div/div[3]'))).click()\n",
    "    browser.quit()\n",
    "    print('This is Process: ', num)\n",
    "\n",
    "if __name__=='__main__':\n",
    "  # cpu_count = mp.cpu_count()\n",
    "  # print(\"cpu_count: \", cpu_count)\n",
    "  num_process = 20\n",
    "  process_list = []\n",
    "  for i in range(num_process):\n",
    "    process_list.append(mp.Process(target = run_selenium_task, args = (i,)))\n",
    "    process_list[i].start()\n",
    "\n",
    "  for i in range(num_process):\n",
    "    process_list[i].join()"
   ]
  },
  {
   "attachments": {},
   "cell_type": "markdown",
   "metadata": {},
   "source": [
    "# start browser and login"
   ]
  },
  {
   "cell_type": "code",
   "execution_count": 6,
   "metadata": {},
   "outputs": [],
   "source": [
    "browser = webdriver.Chrome(service = Service('/usr/local/bin/chromedriver'))\n",
    "browser.get('https://www.instagram.com/')\n",
    "account = WebDriverWait(browser, 600).until(EC.presence_of_element_located((By.XPATH, '//*[@id=\"loginForm\"]/div/div[1]/div/label/input')))\n",
    "account.send_keys('nccu_babasketball')\n",
    "password = WebDriverWait(browser, 600).until(EC.presence_of_element_located((By.XPATH, '//*[@id=\"loginForm\"]/div/div[2]/div/label/input')))\n",
    "password.send_keys('babasketball123')\n",
    "WebDriverWait(browser, 600).until(EC.presence_of_element_located((By.XPATH, '//*[@id=\"loginForm\"]/div/div[3]'))).click()\n"
   ]
  },
  {
   "attachments": {},
   "cell_type": "markdown",
   "metadata": {},
   "source": [
    "# check alert"
   ]
  },
  {
   "cell_type": "code",
   "execution_count": 7,
   "metadata": {},
   "outputs": [],
   "source": [
    "try:\n",
    "    WebDriverWait(browser, 60).until(EC.presence_of_element_located((By.XPATH, '/html/body/div[2]/div/div/div[2]/div/div/div/div[1]/div[1]/div[2]/section/main/div/div/div/div/div'))).click()\n",
    "    WebDriverWait(browser, 60).until(EC.presence_of_element_located((By.XPATH, '/html/body/div[2]/div/div/div[3]/div/div/div[1]/div/div[2]/div/div/div/div/div[2]/div/div/div[3]/button[2]'))).click()\n",
    "except:\n",
    "    pass"
   ]
  },
  {
   "cell_type": "markdown",
   "metadata": {},
   "source": []
  },
  {
   "attachments": {},
   "cell_type": "markdown",
   "metadata": {},
   "source": [
    "# check main page"
   ]
  },
  {
   "cell_type": "code",
   "execution_count": 8,
   "metadata": {},
   "outputs": [],
   "source": [
    "def check_main_page(browser):\n",
    "    verify_element_list = [\n",
    "        {'type':By.CSS_SELECTOR, 'value':'canvas[class=\"_aarh\"]'}, \n",
    "        {'type':By.CSS_SELECTOR, 'value': 'span[class=\"x1lliihq x1plvlek xryxfnj x1n2onr6 x193iq5w xeuugli x1fj9vlw x13faqbe x1vvkbs x1s928wv xhkezso x1gmr53x x1cpjm7i x1fgarty x1943h6x x1i0vuye x1fhwpqd x1s688f x173jzuc x1s3etm8 x676frb x10wh9bi x1wdrske x8viiok x18hxmgj\"]'}\n",
    "    ]\n",
    "    for i in range(len(verify_element_list)):\n",
    "        try:\n",
    "            browser.find_element(verify_element_list[i]['type'], verify_element_list[i]['value'])\n",
    "        except:\n",
    "            return False \n",
    "    return True"
   ]
  },
  {
   "attachments": {},
   "cell_type": "markdown",
   "metadata": {},
   "source": [
    "# check explore page"
   ]
  },
  {
   "cell_type": "code",
   "execution_count": 9,
   "metadata": {},
   "outputs": [],
   "source": [
    "def check_explore_page(browser):\n",
    "    verify_element_list = [\n",
    "        {'type':By.CSS_SELECTOR, 'value':'div[class=\"x9f619 xjbqb8w x1lliihq x168nmei x13lgxp2 x5pf9jr xo71vjh x1n2onr6 x1plvlek xryxfnj x1c4vz4f x2lah0s xdt5ytf xqjyukv x1qjc9v5 x1oa3qoh x1nhvcw1\"]'}, \n",
    "        {'type':By.CSS_SELECTOR, 'value': 'div[class=\"x9f619 xjbqb8w x1lliihq x168nmei x13lgxp2 x5pf9jr xo71vjh x1n2onr6 x1plvlek xryxfnj x1c4vz4f x2lah0s xdt5ytf xqjyukv x1qjc9v5 x1oa3qoh x1nhvcw1\"]'}\n",
    "    ]\n",
    "    for i in range(len(verify_element_list)):\n",
    "        try:\n",
    "            browser.find_element(verify_element_list[i]['type'], verify_element_list[i]['value'])\n",
    "        except:\n",
    "            return False \n",
    "    return True"
   ]
  },
  {
   "attachments": {},
   "cell_type": "markdown",
   "metadata": {},
   "source": [
    "# check reels page"
   ]
  },
  {
   "cell_type": "code",
   "execution_count": 10,
   "metadata": {},
   "outputs": [],
   "source": [
    "def check_reels_page(browser):\n",
    "    verify_element_list = [\n",
    "        {'type':By.CSS_SELECTOR, 'value':'div[class=\"x6s0dn4 x78zum5 xieb3on x1ypdohk xdt5ytf\"]'}, \n",
    "        {'type':By.CSS_SELECTOR, 'value': 'div[class=\"x1i10hfl x6umtig x1b1mbwd xaqea5y xav7gou x9f619 xe8uvvx xdj266r x11i5rnm xat24cr x1mh8g0r x16tdsg8 x1hl2dhg xggy1nq x1a2a7pz x6s0dn4 x78zum5 xjbqb8w x1ejq31n xd10rxx x1sy0etr x17r0tee x1ypdohk xl56j7k xexx8yu x4uap5 x18d9i69 xkhd6sd\"]'}\n",
    "    ]\n",
    "    for i in range(len(verify_element_list)):\n",
    "        try:\n",
    "            browser.find_element(verify_element_list[i]['type'], verify_element_list[i]['value'])\n",
    "        except:\n",
    "            return False \n",
    "    return True"
   ]
  },
  {
   "attachments": {},
   "cell_type": "markdown",
   "metadata": {},
   "source": [
    "# check chat box"
   ]
  },
  {
   "cell_type": "code",
   "execution_count": 11,
   "metadata": {},
   "outputs": [],
   "source": [
    "def check_chat_box(browser):\n",
    "    verify_element_list = [\n",
    "        {'type':By.CSS_SELECTOR, 'value':'button[class=\"_abl- _abm2\"]'}, \n",
    "        {'type':By.CSS_SELECTOR, 'value': 'div[class=\"x9f619 xjbqb8w x78zum5 x168nmei x13lgxp2 x5pf9jr xo71vjh x1y1aw1k x1sxyh0 xwib8y2 xurb0ha x1n2onr6 x1plvlek xryxfnj x1c4vz4f x2lah0s xdt5ytf xqjyukv x1qjc9v5 x1oa3qoh x1nhvcw1\"]'}\n",
    "    ]\n",
    "    for i in range(len(verify_element_list)):\n",
    "        try:\n",
    "            browser.find_element(verify_element_list[i]['type'], verify_element_list[i]['value'])\n",
    "        except:\n",
    "            return False \n",
    "    return True"
   ]
  },
  {
   "attachments": {},
   "cell_type": "markdown",
   "metadata": {},
   "source": [
    "# check post page"
   ]
  },
  {
   "cell_type": "code",
   "execution_count": 12,
   "metadata": {},
   "outputs": [],
   "source": [
    "def check_post_page(browser):\n",
    "    try:\n",
    "        browser.find_element(By.CSS_SELECTOR, \"div[class = '_ac7a']\")\n",
    "        return True\n",
    "    except:\n",
    "        return False    "
   ]
  },
  {
   "attachments": {},
   "cell_type": "markdown",
   "metadata": {},
   "source": [
    "# check profile"
   ]
  },
  {
   "cell_type": "code",
   "execution_count": 13,
   "metadata": {},
   "outputs": [],
   "source": [
    "def check_profile(browser):\n",
    "    verify_element_list = [\n",
    "        {'type':By.CSS_SELECTOR, 'value':'a[class=\"x1i10hfl xjqpnuy xa49m3k xqeqjp1 x2hbi6w x972fbf xcfux6l x1qhh985 xm0m39n xdl72j9 x2lah0s xe8uvvx xdj266r x11i5rnm xat24cr x1mh8g0r x2lwn1j xeuugli xexx8yu x18d9i69 x1hl2dhg xggy1nq x1ja2u2z x1t137rt x1q0g3np x1lku1pv x1a2a7pz x6s0dn4 xjyslct x1lq5wgf xgqcy7u x30kzoy x9jhf4c x1ejq31n xd10rxx x1sy0etr x17r0tee x9f619 x1ypdohk x78zum5 x1i0vuye xwhw2v2 x10w6t97 xl56j7k x17ydfre x1f6kntn x1swvt13 x1pi30zi x2b8uid xlyipyv x87ps6o x14atkfc x1n2onr6 x1d5wrs8 x1gjpkn9 x175jnsf xsz8vos x17a9jwe\"]'}, \n",
    "        {'type':By.CSS_SELECTOR, 'value': 'button[class=\"_abl-\"]'}\n",
    "        ]\n",
    "    for i in range(len(verify_element_list)):\n",
    "        try:\n",
    "            browser.find_element(verify_element_list[i]['type'], verify_element_list[i]['value'])\n",
    "        except :\n",
    "            return False\n",
    "    return True\n",
    "       "
   ]
  },
  {
   "attachments": {},
   "cell_type": "markdown",
   "metadata": {},
   "source": [
    "# close post page"
   ]
  },
  {
   "cell_type": "code",
   "execution_count": 14,
   "metadata": {},
   "outputs": [],
   "source": [
    "def close_post_page(browser):\n",
    "    browser.find_element(By.CSS_SELECTOR, 'svg[aria-label=\"關閉\"]').click()"
   ]
  },
  {
   "attachments": {},
   "cell_type": "markdown",
   "metadata": {},
   "source": [
    "# go to main"
   ]
  },
  {
   "cell_type": "code",
   "execution_count": 15,
   "metadata": {},
   "outputs": [],
   "source": [
    "def go_to_main(browser):\n",
    "    while not check_main_page(browser):\n",
    "        try:\n",
    "            browser.find_element(By.CSS_SELECTOR, 'div[class=\"x9f619 xjbqb8w x78zum5 x168nmei x13lgxp2 x5pf9jr xo71vjh x1n2onr6 x1plvlek xryxfnj x1c4vz4f x2lah0s xdt5ytf xqjyukv x1qjc9v5 x1oa3qoh x1nhvcw1\"]').click()\n",
    "            break\n",
    "        except:\n",
    "            if check_post_page(browser):\n",
    "                close_post_page(browser)\n",
    "    try:\n",
    "        close_post_page(browser)\n",
    "    except:\n",
    "        pass    \n",
    "    time.sleep(2)\n",
    "    print('go to main finish')"
   ]
  },
  {
   "attachments": {},
   "cell_type": "markdown",
   "metadata": {},
   "source": [
    "# go to explore"
   ]
  },
  {
   "cell_type": "code",
   "execution_count": 44,
   "metadata": {},
   "outputs": [],
   "source": [
    "def go_to_explore(browser):\n",
    "    while not check_explore_page(browser):\n",
    "        try:\n",
    "            browser.find_elements(By.CSS_SELECTOR, 'a[class=\"x1i10hfl xjbqb8w x6umtig x1b1mbwd xaqea5y xav7gou x9f619 x1ypdohk xt0psk2 xe8uvvx xdj266r x11i5rnm xat24cr x1mh8g0r xexx8yu x4uap5 x18d9i69 xkhd6sd x16tdsg8 x1hl2dhg xggy1nq x1a2a7pz _a6hd\"]')[3].click()\n",
    "        except:\n",
    "            if check_post_page(browser):\n",
    "                close_post_page(browser)\n",
    "    try:\n",
    "        close_post_page(browser)\n",
    "    except:\n",
    "        pass    \n",
    "    time.sleep(2)\n",
    "    print('go to explore finish')"
   ]
  },
  {
   "attachments": {},
   "cell_type": "markdown",
   "metadata": {},
   "source": [
    "# go to reel"
   ]
  },
  {
   "cell_type": "code",
   "execution_count": 49,
   "metadata": {},
   "outputs": [],
   "source": [
    "def go_to_reel(browser):\n",
    "    while not check_reels_page(browser):\n",
    "        try:\n",
    "            browser.find_elements(By.CSS_SELECTOR, 'a[class=\"x1i10hfl xjbqb8w x6umtig x1b1mbwd xaqea5y xav7gou x9f619 x1ypdohk xt0psk2 xe8uvvx xdj266r x11i5rnm xat24cr x1mh8g0r xexx8yu x4uap5 x18d9i69 xkhd6sd x16tdsg8 x1hl2dhg xggy1nq x1a2a7pz _a6hd\"]')[4].click()\n",
    "        except:\n",
    "            if check_post_page(browser):\n",
    "                close_post_page(browser)\n",
    "    try:\n",
    "        close_post_page(browser)    \n",
    "    except:\n",
    "        pass    \n",
    "    time.sleep(2)\n",
    "    print('go to reel finish')"
   ]
  },
  {
   "attachments": {},
   "cell_type": "markdown",
   "metadata": {},
   "source": [
    "# go to chat box"
   ]
  },
  {
   "cell_type": "code",
   "execution_count": 16,
   "metadata": {},
   "outputs": [],
   "source": [
    "def go_to_chatbox(browser):\n",
    "    while not check_chat_box(browser):\n",
    "        try:\n",
    "            browser.find_elements(By.CSS_SELECTOR, 'a[class=\"x1i10hfl xjbqb8w x6umtig x1b1mbwd xaqea5y xav7gou x9f619 x1ypdohk xt0psk2 xe8uvvx xdj266r x11i5rnm xat24cr x1mh8g0r xexx8yu x4uap5 x18d9i69 xkhd6sd x16tdsg8 x1hl2dhg xggy1nq x1a2a7pz _a6hd\"]')[5].click()\n",
    "        except:\n",
    "            if check_post_page(browser):\n",
    "                close_post_page(browser)\n",
    "    try:\n",
    "        close_post_page(browser)    \n",
    "    except:\n",
    "        pass    \n",
    "    time.sleep(2)\n",
    "    print('go to chatbox finish')"
   ]
  },
  {
   "cell_type": "code",
   "execution_count": 17,
   "metadata": {},
   "outputs": [
    {
     "name": "stdout",
     "output_type": "stream",
     "text": [
      "go to chatbox finish\n"
     ]
    }
   ],
   "source": [
    "go_to_chatbox(browser)"
   ]
  },
  {
   "attachments": {},
   "cell_type": "markdown",
   "metadata": {},
   "source": [
    "# go to profile"
   ]
  },
  {
   "cell_type": "code",
   "execution_count": null,
   "metadata": {},
   "outputs": [],
   "source": [
    "\n",
    "# profilePageIdentifier(browser)\n",
    "def go_to_profile(browser):\n",
    "    while not check_profile(browser):\n",
    "        try:\n",
    "            browser.find_element(By.CSS_SELECTOR, 'span[class=\"xnz67gz x14yjl9h xudhj91 x18nykt9 xww2gxu x9f619 x1lliihq x2lah0s x6ikm8r x10wlt62 x1n2onr6 x1ykvv32 xougopr x159fomc xnp5s1o x194ut8o x1vzenxt xd7ygy7 xt298gk x1xrz1ek x1s928wv x162n7g1 x2q1x1w x1j6awrg x1n449xj x1m1drc7\"]').click()\n",
    "            break\n",
    "        except:\n",
    "            if check_post_page(browser):\n",
    "                close_post_page(browser)\n",
    "    try:\n",
    "        close_post_page(browser)\n",
    "    except:\n",
    "        pass    \n",
    "    time.sleep(2)\n",
    "    if check_profile(browser):\n",
    "         print('finish')"
   ]
  },
  {
   "cell_type": "code",
   "execution_count": null,
   "metadata": {},
   "outputs": [],
   "source": [
    "go_to_profile(browser)"
   ]
  },
  {
   "cell_type": "code",
   "execution_count": null,
   "metadata": {},
   "outputs": [],
   "source": []
  }
 ],
 "metadata": {
  "kernelspec": {
   "display_name": "Python3.7_Scraper",
   "language": "python",
   "name": "python3"
  },
  "language_info": {
   "codemirror_mode": {
    "name": "ipython",
    "version": 3
   },
   "file_extension": ".py",
   "mimetype": "text/x-python",
   "name": "python",
   "nbconvert_exporter": "python",
   "pygments_lexer": "ipython3",
   "version": "3.7.16"
  },
  "orig_nbformat": 4,
  "vscode": {
   "interpreter": {
    "hash": "8b1bf02a49849b10ce35850e8399b368663ced8805b348f35860ffbc38aa5173"
   }
  }
 },
 "nbformat": 4,
 "nbformat_minor": 2
}
